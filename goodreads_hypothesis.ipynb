{
 "cells": [
  {
   "cell_type": "code",
   "execution_count": 1,
   "metadata": {},
   "outputs": [],
   "source": [
    "# Libraries\n",
    "import pandas as pd\n",
    "import matplotlib.pyplot as plt\n",
    "import seaborn as sns\n",
    "import numpy as np\n",
    "import scipy.stats as st"
   ]
  },
  {
   "cell_type": "code",
   "execution_count": 2,
   "metadata": {},
   "outputs": [
    {
     "data": {
      "text/html": [
       "<div>\n",
       "<style scoped>\n",
       "    .dataframe tbody tr th:only-of-type {\n",
       "        vertical-align: middle;\n",
       "    }\n",
       "\n",
       "    .dataframe tbody tr th {\n",
       "        vertical-align: top;\n",
       "    }\n",
       "\n",
       "    .dataframe thead th {\n",
       "        text-align: right;\n",
       "    }\n",
       "</style>\n",
       "<table border=\"1\" class=\"dataframe\">\n",
       "  <thead>\n",
       "    <tr style=\"text-align: right;\">\n",
       "      <th></th>\n",
       "      <th>user_id</th>\n",
       "      <th>gender</th>\n",
       "      <th>ratings_count</th>\n",
       "      <th>reviews_count</th>\n",
       "      <th>year_joined</th>\n",
       "      <th>young_age</th>\n",
       "      <th>location</th>\n",
       "      <th>friends</th>\n",
       "      <th>fav_genres</th>\n",
       "      <th>groups_count</th>\n",
       "      <th>...</th>\n",
       "      <th>2020</th>\n",
       "      <th>avg_page_20</th>\n",
       "      <th>fav_genres_clean</th>\n",
       "      <th>category</th>\n",
       "      <th>category_simplified</th>\n",
       "      <th>Fiction</th>\n",
       "      <th>Fiction, Non-fiction</th>\n",
       "      <th>Non-fiction</th>\n",
       "      <th>total_page</th>\n",
       "      <th>challenge_completed</th>\n",
       "    </tr>\n",
       "  </thead>\n",
       "  <tbody>\n",
       "    <tr>\n",
       "      <th>0</th>\n",
       "      <td>1</td>\n",
       "      <td>1</td>\n",
       "      <td>806</td>\n",
       "      <td>34</td>\n",
       "      <td>2014</td>\n",
       "      <td>1</td>\n",
       "      <td>Asia</td>\n",
       "      <td>103</td>\n",
       "      <td>['Chick-lit', 'Christian', 'Ebooks', 'Fantasy'...</td>\n",
       "      <td>6</td>\n",
       "      <td>...</td>\n",
       "      <td>1</td>\n",
       "      <td>297</td>\n",
       "      <td>['Romance', 'Religion', 'Fantasy', 'Fiction', ...</td>\n",
       "      <td>Fiction, Non-fiction</td>\n",
       "      <td>1</td>\n",
       "      <td>0</td>\n",
       "      <td>1</td>\n",
       "      <td>0</td>\n",
       "      <td>705</td>\n",
       "      <td>1</td>\n",
       "    </tr>\n",
       "    <tr>\n",
       "      <th>1</th>\n",
       "      <td>2</td>\n",
       "      <td>1</td>\n",
       "      <td>822</td>\n",
       "      <td>90</td>\n",
       "      <td>2013</td>\n",
       "      <td>0</td>\n",
       "      <td>USA</td>\n",
       "      <td>225</td>\n",
       "      <td>['Chick-lit', 'Contemporary', 'Fantasy', 'Fict...</td>\n",
       "      <td>0</td>\n",
       "      <td>...</td>\n",
       "      <td>1</td>\n",
       "      <td>355</td>\n",
       "      <td>['Romance', 'Fiction', 'Fantasy', 'Fiction', '...</td>\n",
       "      <td>Fiction, Non-fiction</td>\n",
       "      <td>1</td>\n",
       "      <td>0</td>\n",
       "      <td>1</td>\n",
       "      <td>0</td>\n",
       "      <td>1126</td>\n",
       "      <td>3</td>\n",
       "    </tr>\n",
       "    <tr>\n",
       "      <th>2</th>\n",
       "      <td>3</td>\n",
       "      <td>1</td>\n",
       "      <td>114</td>\n",
       "      <td>4</td>\n",
       "      <td>2014</td>\n",
       "      <td>1</td>\n",
       "      <td>Asia</td>\n",
       "      <td>7</td>\n",
       "      <td>['Chick-lit', 'Contemporary', 'Ebooks', 'Roman...</td>\n",
       "      <td>1</td>\n",
       "      <td>...</td>\n",
       "      <td>0</td>\n",
       "      <td>284</td>\n",
       "      <td>['Romance', 'Fiction', 'Romance', 'Self help',...</td>\n",
       "      <td>Fiction, Non-fiction</td>\n",
       "      <td>1</td>\n",
       "      <td>0</td>\n",
       "      <td>1</td>\n",
       "      <td>0</td>\n",
       "      <td>864</td>\n",
       "      <td>2</td>\n",
       "    </tr>\n",
       "    <tr>\n",
       "      <th>3</th>\n",
       "      <td>4</td>\n",
       "      <td>1</td>\n",
       "      <td>1265</td>\n",
       "      <td>630</td>\n",
       "      <td>2015</td>\n",
       "      <td>1</td>\n",
       "      <td>Asia</td>\n",
       "      <td>588</td>\n",
       "      <td>['Fantasy', 'Historical fiction', 'Manga', 'Yo...</td>\n",
       "      <td>1</td>\n",
       "      <td>...</td>\n",
       "      <td>1</td>\n",
       "      <td>380</td>\n",
       "      <td>['Fantasy', 'Fiction', 'Comics', 'Young-adult']</td>\n",
       "      <td>Fiction</td>\n",
       "      <td>1</td>\n",
       "      <td>1</td>\n",
       "      <td>0</td>\n",
       "      <td>0</td>\n",
       "      <td>1028</td>\n",
       "      <td>3</td>\n",
       "    </tr>\n",
       "    <tr>\n",
       "      <th>4</th>\n",
       "      <td>5</td>\n",
       "      <td>1</td>\n",
       "      <td>380</td>\n",
       "      <td>1</td>\n",
       "      <td>2014</td>\n",
       "      <td>0</td>\n",
       "      <td>EU</td>\n",
       "      <td>56</td>\n",
       "      <td>['Comics', 'Fantasy', 'Historical fiction', 'H...</td>\n",
       "      <td>1</td>\n",
       "      <td>...</td>\n",
       "      <td>0</td>\n",
       "      <td>278</td>\n",
       "      <td>['Comics', 'Fantasy', 'Fiction', 'Art', 'Psych...</td>\n",
       "      <td>Fiction, Non-fiction</td>\n",
       "      <td>1</td>\n",
       "      <td>0</td>\n",
       "      <td>1</td>\n",
       "      <td>0</td>\n",
       "      <td>1233</td>\n",
       "      <td>2</td>\n",
       "    </tr>\n",
       "  </tbody>\n",
       "</table>\n",
       "<p>5 rows × 24 columns</p>\n",
       "</div>"
      ],
      "text/plain": [
       "   user_id  gender  ratings_count  reviews_count  year_joined  young_age  \\\n",
       "0        1       1            806             34         2014          1   \n",
       "1        2       1            822             90         2013          0   \n",
       "2        3       1            114              4         2014          1   \n",
       "3        4       1           1265            630         2015          1   \n",
       "4        5       1            380              1         2014          0   \n",
       "\n",
       "  location  friends                                         fav_genres  \\\n",
       "0     Asia      103  ['Chick-lit', 'Christian', 'Ebooks', 'Fantasy'...   \n",
       "1      USA      225  ['Chick-lit', 'Contemporary', 'Fantasy', 'Fict...   \n",
       "2     Asia        7  ['Chick-lit', 'Contemporary', 'Ebooks', 'Roman...   \n",
       "3     Asia      588  ['Fantasy', 'Historical fiction', 'Manga', 'Yo...   \n",
       "4       EU       56  ['Comics', 'Fantasy', 'Historical fiction', 'H...   \n",
       "\n",
       "   groups_count  ...  2020  avg_page_20  \\\n",
       "0             6  ...     1          297   \n",
       "1             0  ...     1          355   \n",
       "2             1  ...     0          284   \n",
       "3             1  ...     1          380   \n",
       "4             1  ...     0          278   \n",
       "\n",
       "                                    fav_genres_clean              category  \\\n",
       "0  ['Romance', 'Religion', 'Fantasy', 'Fiction', ...  Fiction, Non-fiction   \n",
       "1  ['Romance', 'Fiction', 'Fantasy', 'Fiction', '...  Fiction, Non-fiction   \n",
       "2  ['Romance', 'Fiction', 'Romance', 'Self help',...  Fiction, Non-fiction   \n",
       "3    ['Fantasy', 'Fiction', 'Comics', 'Young-adult']               Fiction   \n",
       "4  ['Comics', 'Fantasy', 'Fiction', 'Art', 'Psych...  Fiction, Non-fiction   \n",
       "\n",
       "   category_simplified  Fiction Fiction, Non-fiction Non-fiction  total_page  \\\n",
       "0                    1        0                    1           0         705   \n",
       "1                    1        0                    1           0        1126   \n",
       "2                    1        0                    1           0         864   \n",
       "3                    1        1                    0           0        1028   \n",
       "4                    1        0                    1           0        1233   \n",
       "\n",
       "   challenge_completed  \n",
       "0                    1  \n",
       "1                    3  \n",
       "2                    2  \n",
       "3                    3  \n",
       "4                    2  \n",
       "\n",
       "[5 rows x 24 columns]"
      ]
     },
     "execution_count": 2,
     "metadata": {},
     "output_type": "execute_result"
    }
   ],
   "source": [
    "data = pd.read_csv('goodreads_clean_final.csv')\n",
    "data.head()"
   ]
  },
  {
   "cell_type": "code",
   "execution_count": 3,
   "metadata": {},
   "outputs": [
    {
     "data": {
      "image/png": "[encoded data removed]",
      "text/plain": [
       "<Figure size 792x648 with 2 Axes>"
      ]
     },
     "metadata": {
      "needs_background": "light"
     },
     "output_type": "display_data"
    }
   ],
   "source": [
    "# to visualise the correlation of our data\n",
    "corr = data.corr()\n",
    "f, ax =  plt.subplots(figsize= (11,9))\n",
    "\n",
    "mask = np.triu(np.ones_like(corr, dtype = bool))\n",
    "\n",
    "cmap = sns.diverging_palette(220, 10, as_cmap= True)\n",
    "\n",
    "sns.heatmap(corr, mask= mask, cmap= cmap, vmax= 1, center= 0,\n",
    "            square= True, linewidths= 0.5, cbar_kws= {'shrink': 0.5})\n",
    "\n",
    "plt.show()"
   ]
  },
  {
   "cell_type": "markdown",
   "metadata": {},
   "source": [
    "### Are there any correlation between genre preference and completion of challenge?\n",
    "\n",
    "#### H0: the reader's genre preferences and the completion of challenge are independent\n",
    "\n",
    "#### H1: the reader's genre preferences and the completion of challenge are dependent"
   ]
  },
  {
   "cell_type": "markdown",
   "metadata": {},
   "source": [
    "reference: https://machinelearningmastery.com/chi-squared-test-for-machine-learning/\n",
    "\n",
    "I decided to do the chi-squared test to answer this hypothesis.\n",
    "The chi2 calculate the expected frequencies for our groups (preferred genre vs how many challenges they completed) then determine whether the observed frequencies matches the expected frequencies. \n",
    "\n",
    "The variables are considered independent if the observed and expected frequencies are similar."
   ]
  },
  {
   "cell_type": "code",
   "execution_count": 4,
   "metadata": {},
   "outputs": [
    {
     "data": {
      "text/html": [
       "<div>\n",
       "<style scoped>\n",
       "    .dataframe tbody tr th:only-of-type {\n",
       "        vertical-align: middle;\n",
       "    }\n",
       "\n",
       "    .dataframe tbody tr th {\n",
       "        vertical-align: top;\n",
       "    }\n",
       "\n",
       "    .dataframe thead th {\n",
       "        text-align: right;\n",
       "    }\n",
       "</style>\n",
       "<table border=\"1\" class=\"dataframe\">\n",
       "  <thead>\n",
       "    <tr style=\"text-align: right;\">\n",
       "      <th>challenge_completed</th>\n",
       "      <th>0</th>\n",
       "      <th>1</th>\n",
       "      <th>2</th>\n",
       "      <th>3</th>\n",
       "    </tr>\n",
       "    <tr>\n",
       "      <th>category</th>\n",
       "      <th></th>\n",
       "      <th></th>\n",
       "      <th></th>\n",
       "      <th></th>\n",
       "    </tr>\n",
       "  </thead>\n",
       "  <tbody>\n",
       "    <tr>\n",
       "      <th>Fiction</th>\n",
       "      <td>2</td>\n",
       "      <td>2</td>\n",
       "      <td>5</td>\n",
       "      <td>7</td>\n",
       "    </tr>\n",
       "    <tr>\n",
       "      <th>Fiction, Non-fiction</th>\n",
       "      <td>16</td>\n",
       "      <td>18</td>\n",
       "      <td>19</td>\n",
       "      <td>28</td>\n",
       "    </tr>\n",
       "    <tr>\n",
       "      <th>Non-fiction</th>\n",
       "      <td>2</td>\n",
       "      <td>0</td>\n",
       "      <td>1</td>\n",
       "      <td>0</td>\n",
       "    </tr>\n",
       "  </tbody>\n",
       "</table>\n",
       "</div>"
      ],
      "text/plain": [
       "challenge_completed    0   1   2   3\n",
       "category                            \n",
       "Fiction                2   2   5   7\n",
       "Fiction, Non-fiction  16  18  19  28\n",
       "Non-fiction            2   0   1   0"
      ]
     },
     "execution_count": 4,
     "metadata": {},
     "output_type": "execute_result"
    }
   ],
   "source": [
    "# do a crosstab of the variables, this is our observed frequencies\n",
    "ct = pd.crosstab(data['category'], data['challenge_completed'])\n",
    "ct"
   ]
  },
  {
   "cell_type": "code",
   "execution_count": 5,
   "metadata": {},
   "outputs": [
    {
     "data": {
      "text/plain": [
       "array([[ 3.2 ,  3.2 ,  4.  ,  5.6 ],\n",
       "       [16.2 , 16.2 , 20.25, 28.35],\n",
       "       [ 0.6 ,  0.6 ,  0.75,  1.05]])"
      ]
     },
     "execution_count": 5,
     "metadata": {},
     "output_type": "execute_result"
    }
   ],
   "source": [
    "# the chi2_contigency return the statistic, p-value, degree of freefom and the expected frequencies\n",
    "stat, pval, dof, expected = st.chi2_contingency(ct)\n",
    "\n",
    "# this is our expected frequencies\n",
    "expected"
   ]
  },
  {
   "cell_type": "code",
   "execution_count": 6,
   "metadata": {},
   "outputs": [
    {
     "name": "stdout",
     "output_type": "stream",
     "text": [
      "statistic:  6.78 | critical value:  12.59\n",
      "Independent (fail to reject H0)\n"
     ]
    }
   ],
   "source": [
    "## ---------- first way --------------\n",
    "\n",
    "# we will use the probability of 95%\n",
    "# If the statistic is less than or equal to the critical value, we can fail to reject this assumption, otherwise it can be rejected.\n",
    "prob = 0.95\n",
    "critical = st.chi2.ppf(prob, dof)\n",
    "if stat >= critical:\n",
    "\tprint('statistic: ' ,round(stat, 2), '| critical value: ', round(critical, 2))\n",
    "\tprint('Dependent (reject H0)')\n",
    "else:\n",
    "\tprint('statistic: ' ,round(stat, 2), '| critical value: ', round(critical, 2))\n",
    "\tprint('Independent (fail to reject H0)')\n"
   ]
  },
  {
   "cell_type": "code",
   "execution_count": 7,
   "metadata": {},
   "outputs": [
    {
     "name": "stdout",
     "output_type": "stream",
     "text": [
      "p-value:  0.34 | alpha:  0.05\n",
      "Independent (fail to reject H0)\n"
     ]
    }
   ],
   "source": [
    "## ---------- second way --------------\n",
    "\n",
    "# interpret p-value\n",
    "# by comparing it to our significant level (0.5)\n",
    "alpha = 1.0 - prob\n",
    "if pval <= alpha:\n",
    "\tprint('p-value: ' ,round(pval, 2), '| alpha: ', round(alpha, 2))\n",
    "\tprint('Dependent (reject H0)')\n",
    "else:\n",
    "\tprint('p-value: ' ,round(pval, 2), '| alpha: ', round(alpha, 2))\n",
    "\tprint('Independent (fail to reject H0)')"
   ]
  },
  {
   "cell_type": "markdown",
   "metadata": {},
   "source": [
    "Conclusion:\n",
    "\n",
    "Based on our test, we do not reject our null hypothesis and we keep on believing that the genre preferences and the completion of challenges are independent of each other."
   ]
  },
  {
   "cell_type": "markdown",
   "metadata": {},
   "source": [
    "----------------"
   ]
  },
  {
   "cell_type": "markdown",
   "metadata": {},
   "source": [
    "### Are there any correlation between the reader's demographic (age & gender) and their preferred genre?\n",
    "\n",
    "#### H0: the reader's gender and their genre preference are independent\n",
    "\n",
    "#### H1: the reader's gender and theit genre preference are dependent"
   ]
  },
  {
   "cell_type": "markdown",
   "metadata": {},
   "source": [
    "As we are dealing with categorical data, we will also use the chi square test for this."
   ]
  },
  {
   "cell_type": "code",
   "execution_count": 8,
   "metadata": {},
   "outputs": [
    {
     "data": {
      "text/html": [
       "<div>\n",
       "<style scoped>\n",
       "    .dataframe tbody tr th:only-of-type {\n",
       "        vertical-align: middle;\n",
       "    }\n",
       "\n",
       "    .dataframe tbody tr th {\n",
       "        vertical-align: top;\n",
       "    }\n",
       "\n",
       "    .dataframe thead th {\n",
       "        text-align: right;\n",
       "    }\n",
       "</style>\n",
       "<table border=\"1\" class=\"dataframe\">\n",
       "  <thead>\n",
       "    <tr style=\"text-align: right;\">\n",
       "      <th>challenge_completed</th>\n",
       "      <th>0</th>\n",
       "      <th>1</th>\n",
       "      <th>2</th>\n",
       "      <th>3</th>\n",
       "    </tr>\n",
       "    <tr>\n",
       "      <th>gender</th>\n",
       "      <th></th>\n",
       "      <th></th>\n",
       "      <th></th>\n",
       "      <th></th>\n",
       "    </tr>\n",
       "  </thead>\n",
       "  <tbody>\n",
       "    <tr>\n",
       "      <th>0</th>\n",
       "      <td>12</td>\n",
       "      <td>10</td>\n",
       "      <td>11</td>\n",
       "      <td>17</td>\n",
       "    </tr>\n",
       "    <tr>\n",
       "      <th>1</th>\n",
       "      <td>8</td>\n",
       "      <td>10</td>\n",
       "      <td>14</td>\n",
       "      <td>18</td>\n",
       "    </tr>\n",
       "  </tbody>\n",
       "</table>\n",
       "</div>"
      ],
      "text/plain": [
       "challenge_completed   0   1   2   3\n",
       "gender                             \n",
       "0                    12  10  11  17\n",
       "1                     8  10  14  18"
      ]
     },
     "execution_count": 8,
     "metadata": {},
     "output_type": "execute_result"
    }
   ],
   "source": [
    "# do a crosstab of the variables, this is our observed frequencies\n",
    "# 0 = male, 1 = female\n",
    "ct = pd.crosstab(data['gender'], data['challenge_completed'])\n",
    "ct"
   ]
  },
  {
   "cell_type": "code",
   "execution_count": 9,
   "metadata": {},
   "outputs": [
    {
     "data": {
      "text/plain": [
       "array([[10. , 10. , 12.5, 17.5],\n",
       "       [10. , 10. , 12.5, 17.5]])"
      ]
     },
     "execution_count": 9,
     "metadata": {},
     "output_type": "execute_result"
    }
   ],
   "source": [
    "# the chi2_contigency return the statistic, p-value, degree of freefom and the expected frequencies\n",
    "stat, pval, dof, expected = st.chi2_contingency(ct)\n",
    "\n",
    "# this is our expected frequencies\n",
    "expected"
   ]
  },
  {
   "cell_type": "code",
   "execution_count": 10,
   "metadata": {},
   "outputs": [
    {
     "name": "stdout",
     "output_type": "stream",
     "text": [
      "statistic:  1.19 | critical value:  7.81\n",
      "Independent (fail to reject H0)\n"
     ]
    }
   ],
   "source": [
    "## ---------- first way --------------\n",
    "\n",
    "# we will use the probability of 95%\n",
    "# If the statistic is less than or equal to the critical value, we can fail to reject this assumption, otherwise it can be rejected.\n",
    "prob = 0.95\n",
    "critical = st.chi2.ppf(prob, dof)\n",
    "if abs(stat) >= critical:\n",
    "\tprint('statistic: ' ,round(stat, 2), '| critical value: ', round(critical, 2))\n",
    "\tprint('Dependent (reject H0)')\n",
    "else:\n",
    "\tprint('statistic: ' ,round(stat, 2), '| critical value: ', round(critical, 2))\n",
    "\tprint('Independent (fail to reject H0)')"
   ]
  },
  {
   "cell_type": "code",
   "execution_count": 11,
   "metadata": {},
   "outputs": [
    {
     "name": "stdout",
     "output_type": "stream",
     "text": [
      "p-value:  0.76 | alpha:  0.05\n",
      "Independent (fail to reject H0)\n"
     ]
    }
   ],
   "source": [
    "## ---------- second way --------------\n",
    "\n",
    "# interpret p-value\n",
    "# by comparing it to our significant level (0.5)\n",
    "alpha = 1.0 - prob\n",
    "if pval <= alpha:\n",
    "\tprint('p-value: ' ,round(pval, 2), '| alpha: ', round(alpha, 2))\n",
    "\tprint('Dependent (reject H0)')\n",
    "else:\n",
    "\tprint('p-value: ' ,round(pval, 2), '| alpha: ', round(alpha, 2))\n",
    "\tprint('Independent (fail to reject H0)')"
   ]
  },
  {
   "cell_type": "markdown",
   "metadata": {},
   "source": [
    "#### H0: the reader's age and their genre preference are independent\n",
    "\n",
    "#### H1: the reader's age and theit genre preference are dependent"
   ]
  },
  {
   "cell_type": "code",
   "execution_count": 12,
   "metadata": {},
   "outputs": [
    {
     "data": {
      "text/html": [
       "<div>\n",
       "<style scoped>\n",
       "    .dataframe tbody tr th:only-of-type {\n",
       "        vertical-align: middle;\n",
       "    }\n",
       "\n",
       "    .dataframe tbody tr th {\n",
       "        vertical-align: top;\n",
       "    }\n",
       "\n",
       "    .dataframe thead th {\n",
       "        text-align: right;\n",
       "    }\n",
       "</style>\n",
       "<table border=\"1\" class=\"dataframe\">\n",
       "  <thead>\n",
       "    <tr style=\"text-align: right;\">\n",
       "      <th>challenge_completed</th>\n",
       "      <th>0</th>\n",
       "      <th>1</th>\n",
       "      <th>2</th>\n",
       "      <th>3</th>\n",
       "    </tr>\n",
       "    <tr>\n",
       "      <th>young_age</th>\n",
       "      <th></th>\n",
       "      <th></th>\n",
       "      <th></th>\n",
       "      <th></th>\n",
       "    </tr>\n",
       "  </thead>\n",
       "  <tbody>\n",
       "    <tr>\n",
       "      <th>0</th>\n",
       "      <td>6</td>\n",
       "      <td>6</td>\n",
       "      <td>9</td>\n",
       "      <td>17</td>\n",
       "    </tr>\n",
       "    <tr>\n",
       "      <th>1</th>\n",
       "      <td>14</td>\n",
       "      <td>14</td>\n",
       "      <td>16</td>\n",
       "      <td>18</td>\n",
       "    </tr>\n",
       "  </tbody>\n",
       "</table>\n",
       "</div>"
      ],
      "text/plain": [
       "challenge_completed   0   1   2   3\n",
       "young_age                          \n",
       "0                     6   6   9  17\n",
       "1                    14  14  16  18"
      ]
     },
     "execution_count": 12,
     "metadata": {},
     "output_type": "execute_result"
    }
   ],
   "source": [
    "# do a crosstab of the variables, this is our observed frequencies\n",
    "# 0 = older reader, 1 = younger reader\n",
    "ct = pd.crosstab(data['young_age'], data['challenge_completed'])\n",
    "ct"
   ]
  },
  {
   "cell_type": "code",
   "execution_count": 13,
   "metadata": {},
   "outputs": [
    {
     "data": {
      "text/plain": [
       "array([[ 7.6,  7.6,  9.5, 13.3],\n",
       "       [12.4, 12.4, 15.5, 21.7]])"
      ]
     },
     "execution_count": 13,
     "metadata": {},
     "output_type": "execute_result"
    }
   ],
   "source": [
    "# the chi2_contigency return the statistic, p-value, degree of freefom and the expected frequencies\n",
    "stat, pval, dof, expected = st.chi2_contingency(ct)\n",
    "\n",
    "# this is our expected frequencies\n",
    "expected"
   ]
  },
  {
   "cell_type": "code",
   "execution_count": 14,
   "metadata": {},
   "outputs": [
    {
     "name": "stdout",
     "output_type": "stream",
     "text": [
      "statistic:  2.79 | critical value:  7.81\n",
      "Independent (fail to reject H0)\n"
     ]
    }
   ],
   "source": [
    "## ---------- first way --------------\n",
    "\n",
    "# we will use the probability of 95%\n",
    "# If the statistic is less than or equal to the critical value, we can fail to reject this assumption, otherwise it can be rejected.\n",
    "prob = 0.95\n",
    "critical = st.chi2.ppf(prob, dof)\n",
    "if abs(stat) >= critical:\n",
    "\tprint('statistic: ' ,round(stat, 2), '| critical value: ', round(critical, 2))\n",
    "\tprint('Dependent (reject H0)')\n",
    "else:\n",
    "\tprint('statistic: ' ,round(stat, 2), '| critical value: ', round(critical, 2))\n",
    "\tprint('Independent (fail to reject H0)')"
   ]
  },
  {
   "cell_type": "code",
   "execution_count": 15,
   "metadata": {},
   "outputs": [
    {
     "name": "stdout",
     "output_type": "stream",
     "text": [
      "p-value:  0.43 | alpha:  0.05\n",
      "Independent (fail to reject H0)\n"
     ]
    }
   ],
   "source": [
    "## ---------- second way --------------\n",
    "\n",
    "# interpret p-value\n",
    "# by comparing it to our significant level (0.5)\n",
    "alpha = 1.0 - prob\n",
    "if pval <= alpha:\n",
    "\tprint('p-value: ' ,round(pval, 2), '| alpha: ', round(alpha, 2))\n",
    "\tprint('Dependent (reject H0)')\n",
    "else:\n",
    "\tprint('p-value: ' ,round(pval, 2), '| alpha: ', round(alpha, 2))\n",
    "\tprint('Independent (fail to reject H0)')"
   ]
  },
  {
   "cell_type": "markdown",
   "metadata": {},
   "source": [
    "Conclusion:\n",
    "\n",
    "Based on our test, we can conclude that we do not reject the null hypothesis on both of our assumptions. And we can continue to believe that the reader's demographic (age and gender) and their genre preferences are independent."
   ]
  },
  {
   "cell_type": "markdown",
   "metadata": {},
   "source": [
    "-----"
   ]
  },
  {
   "cell_type": "markdown",
   "metadata": {},
   "source": [
    "### Do readers who are more social more likely to complete all the challenges?\n",
    "I would like to know if readers who use the website/app (goodreads) to socialise with others are more likely to be motivated to complete the challenges. So for this there's 2 ways to measure how social the readers are; by how many groups they join and by how many friends they have.\n",
    "\n",
    "#### H0: The mean(friends) of readers are equal despite how many challenges they completed\n",
    "#### H1: The mean(friends) of readers are not equal"
   ]
  },
  {
   "cell_type": "code",
   "execution_count": 16,
   "metadata": {},
   "outputs": [
    {
     "data": {
      "image/png": "[encoded data removed]",
      "text/plain": [
       "<Figure size 648x360 with 1 Axes>"
      ]
     },
     "metadata": {
      "needs_background": "light"
     },
     "output_type": "display_data"
    }
   ],
   "source": [
    "# let's first plot the data in a bar chart to visualise it\n",
    "plt.figure(figsize= (9,5))\n",
    "sns.barplot(x = 'challenge_completed', y= 'friends', data=data)\n",
    "plt.xticks([0,1,2,3])\n",
    "plt.xlabel('Challenge Completed')\n",
    "plt.ylabel('Friends')\n",
    "plt.show()"
   ]
  },
  {
   "cell_type": "code",
   "execution_count": 17,
   "metadata": {},
   "outputs": [
    {
     "name": "stdout",
     "output_type": "stream",
     "text": [
      "p-value:  0.07 | alpha:  0.05\n",
      "Independent (fail to reject H0)\n"
     ]
    }
   ],
   "source": [
    "# ANOVA one way\n",
    "c3 = data[data['challenge_completed'] == 3]['friends']\n",
    "c2 = data[data['challenge_completed'] == 2]['friends']\n",
    "c1 = data[data['challenge_completed'] == 1]['friends']\n",
    "c0 = data[data['challenge_completed'] == 0]['friends']\n",
    "\n",
    "stats, pval = st.f_oneway(c0,c1,c2,c3)\n",
    "alpha = 0.05\n",
    "if pval <= alpha:\n",
    "\tprint('p-value: ' ,round(pval, 2), '| alpha: ', round(alpha, 2))\n",
    "\tprint('Dependent (reject H0)')\n",
    "else:\n",
    "\tprint('p-value: ' ,round(pval, 2), '| alpha: ', round(alpha, 2))\n",
    "\tprint('Independent (fail to reject H0)')\n"
   ]
  },
  {
   "cell_type": "markdown",
   "metadata": {},
   "source": [
    "#### H0: The mean(groups) of readers are equal despite how many challenges they completed\n",
    "#### H1: The mean(groups) of readers are not equal"
   ]
  },
  {
   "cell_type": "code",
   "execution_count": 18,
   "metadata": {},
   "outputs": [
    {
     "data": {
      "image/png": "[encoded data removed]",
      "text/plain": [
       "<Figure size 648x360 with 1 Axes>"
      ]
     },
     "metadata": {
      "needs_background": "light"
     },
     "output_type": "display_data"
    }
   ],
   "source": [
    "# let's first plot the data in a bar chart to visualise it\n",
    "plt.figure(figsize= (9,5))\n",
    "sns.barplot(x = 'challenge_completed', y= 'groups_count', data=data)\n",
    "plt.xticks([0,1,2,3])\n",
    "plt.xlabel('Challenge Completed')\n",
    "plt.ylabel('Friends')\n",
    "plt.show()"
   ]
  },
  {
   "cell_type": "code",
   "execution_count": 19,
   "metadata": {},
   "outputs": [
    {
     "name": "stdout",
     "output_type": "stream",
     "text": [
      "p-value:  0.03 | alpha:  0.05\n",
      "Dependent (reject H0)\n"
     ]
    }
   ],
   "source": [
    "# ANOVA one way\n",
    "c3 = data[data['challenge_completed'] == 3]['groups_count']\n",
    "c2 = data[data['challenge_completed'] == 2]['groups_count']\n",
    "c1 = data[data['challenge_completed'] == 1]['groups_count']\n",
    "c0 = data[data['challenge_completed'] == 0]['groups_count']\n",
    "\n",
    "stats, pval = st.f_oneway(c0,c1,c2,c3)\n",
    "alpha = 0.05\n",
    "if pval <= alpha:\n",
    "\tprint('p-value: ' ,round(pval, 2), '| alpha: ', round(alpha, 2))\n",
    "\tprint('Dependent (reject H0)')\n",
    "else:\n",
    "\tprint('p-value: ' ,round(pval, 2), '| alpha: ', round(alpha, 2))\n",
    "\tprint('Independent (fail to reject H0)')"
   ]
  },
  {
   "cell_type": "markdown",
   "metadata": {},
   "source": [
    "#### Conclusion\n",
    "Based on the tests that we did, it seems that readers that join more groups in the app are more likely to complete the challenge.\n",
    "However, the same does not apply to the amount of friends a reader have."
   ]
  },
  {
   "cell_type": "markdown",
   "metadata": {},
   "source": [
    "#### Assumption check"
   ]
  },
  {
   "cell_type": "markdown",
   "metadata": {},
   "source": [
    "There are certain assumptions that need to be met in order for the result to be considered valid:\n",
    "1. Independence -> The observations are obtained independently and randomly from the population \n",
    "2. Normality -> The data for each attributes is normally distributed\n",
    "3. Homogeneity of variance -> The variance among the groups should be approximately equal\n"
   ]
  },
  {
   "cell_type": "code",
   "execution_count": 20,
   "metadata": {},
   "outputs": [
    {
     "data": {
      "text/html": [
       "<div>\n",
       "<style scoped>\n",
       "    .dataframe tbody tr th:only-of-type {\n",
       "        vertical-align: middle;\n",
       "    }\n",
       "\n",
       "    .dataframe tbody tr th {\n",
       "        vertical-align: top;\n",
       "    }\n",
       "\n",
       "    .dataframe thead th {\n",
       "        text-align: right;\n",
       "    }\n",
       "</style>\n",
       "<table border=\"1\" class=\"dataframe\">\n",
       "  <thead>\n",
       "    <tr style=\"text-align: right;\">\n",
       "      <th></th>\n",
       "      <th>sum_sq</th>\n",
       "      <th>df</th>\n",
       "      <th>F</th>\n",
       "      <th>PR(&gt;F)</th>\n",
       "    </tr>\n",
       "  </thead>\n",
       "  <tbody>\n",
       "    <tr>\n",
       "      <th>C(challenge_completed)</th>\n",
       "      <td>241.018571</td>\n",
       "      <td>3.0</td>\n",
       "      <td>3.037924</td>\n",
       "      <td>0.032783</td>\n",
       "    </tr>\n",
       "    <tr>\n",
       "      <th>Residual</th>\n",
       "      <td>2538.771429</td>\n",
       "      <td>96.0</td>\n",
       "      <td>NaN</td>\n",
       "      <td>NaN</td>\n",
       "    </tr>\n",
       "  </tbody>\n",
       "</table>\n",
       "</div>"
      ],
      "text/plain": [
       "                             sum_sq    df         F    PR(>F)\n",
       "C(challenge_completed)   241.018571   3.0  3.037924  0.032783\n",
       "Residual                2538.771429  96.0       NaN       NaN"
      ]
     },
     "execution_count": 20,
     "metadata": {},
     "output_type": "execute_result"
    }
   ],
   "source": [
    "# get ANOVA table\n",
    "import statsmodels.api as sm\n",
    "from statsmodels.formula.api import ols\n",
    "\n",
    "# Ordinary Least Squares (OLS) model\n",
    "model = ols('groups_count ~ C(challenge_completed)', data=data).fit()\n",
    "anova_table = sm.stats.anova_lm(model, typ=2)\n",
    "anova_table"
   ]
  },
  {
   "cell_type": "code",
   "execution_count": 21,
   "metadata": {},
   "outputs": [
    {
     "name": "stdout",
     "output_type": "stream",
     "text": [
      "p-value:  0.03 | alpha:  0.05\n",
      "Not a normal distribution (reject H0)\n"
     ]
    }
   ],
   "source": [
    "# test for normality\n",
    "# H0: The distribution of the sample is not significantly different from a normal distribution\n",
    "# H1: The distribution of the sample is significantly different from a normal distribution\n",
    "stats, pvalue = st.shapiro(model.resid)\n",
    "alpha = 0.05\n",
    "if pvalue <= alpha:\n",
    "\tprint('p-value: ' ,round(pval, 2), '| alpha: ', round(alpha, 2))\n",
    "\tprint('Not a normal distribution (reject H0)')\n",
    "else:\n",
    "\tprint('p-value: ' ,round(pval, 2), '| alpha: ', round(alpha, 2))\n",
    "\tprint('Normal distribution (fail to reject H0)')"
   ]
  },
  {
   "cell_type": "code",
   "execution_count": 22,
   "metadata": {},
   "outputs": [
    {
     "name": "stdout",
     "output_type": "stream",
     "text": [
      "p-value:  0.03 | alpha:  0.05\n",
      "Equal variances (fail to reject H0)\n"
     ]
    }
   ],
   "source": [
    "# Homogeneity of variance\n",
    "# H0: The groups we're comparing all have equal population variances\n",
    "# H1: The groups we're comparing do not have equal population variances\n",
    "stats, pvalue = st.levene(c0, c1, c2, c3)\n",
    "\n",
    "alpha = 0.05\n",
    "if pvalue <= alpha:\n",
    "\tprint('p-value: ' ,round(pval, 2), '| alpha: ', round(alpha, 2))\n",
    "\tprint('Not equal variances (reject H0)')\n",
    "else:\n",
    "\tprint('p-value: ' ,round(pval, 2), '| alpha: ', round(alpha, 2))\n",
    "\tprint('Equal variances (fail to reject H0)')\n"
   ]
  },
  {
   "cell_type": "code",
   "execution_count": 23,
   "metadata": {},
   "outputs": [
    {
     "data": {
      "image/png": "[encoded data removed]",
      "text/plain": [
       "<Figure size 432x432 with 1 Axes>"
      ]
     },
     "metadata": {
      "needs_background": "light"
     },
     "output_type": "display_data"
    }
   ],
   "source": [
    "# visually plot the assumption of variance\n",
    "fig = plt.figure(figsize= (6, 6))\n",
    "ax = fig.add_subplot(111)\n",
    "\n",
    "ax.set_title(\"Box Plot of Friends by Challenge completion\", fontsize= 10)\n",
    "ax.set\n",
    "\n",
    "dataplot = [data['friends'][data['challenge_completed'] == 3],\n",
    "        data['friends'][data['challenge_completed'] == 2], \n",
    "        data['friends'][data['challenge_completed'] == 1],\n",
    "        data['friends'][data['challenge_completed'] == 0]]\n",
    "\n",
    "ax.boxplot(dataplot,\n",
    "           labels= ['3', '2', '1', '0'],\n",
    "           showmeans= True)\n",
    "\n",
    "plt.ylabel(\"Number of friends\")\n",
    "plt.xlabel(\"Challenge completed\")\n",
    "\n",
    "plt.show()"
   ]
  },
  {
   "cell_type": "markdown",
   "metadata": {},
   "source": [
    "#### Conclusion:\n",
    "1. Independence -> The data is collected from random users in the website Goodreads, and each data point is an independent user that does not affect one another.\n",
    "2. Normality -> From testing the assumption of normality using the Shapiro-Wilk test, the data is not normally distributed.\n",
    "3. Homogeneity of variance -> From testing the assumption of homogeneity of variance using the Levene test, the data variances are equal.\n",
    "\n",
    "Notes:\n",
    "\n",
    "*If the measurement variable is not normally distributed, it may increasr the chance of a false positive result. Fortunately, anova is not very sensitive to moderate deviations from normality; simulation studies, using a variety of non-normal distributions, have shown that the false positive rate is not affected very much by this violation of the assumption (Glass et al. 1972, Harwell et al. 1992, Lix et al. 1996).*"
   ]
  },
  {
   "cell_type": "markdown",
   "metadata": {},
   "source": [
    "-----------------"
   ]
  },
  {
   "cell_type": "markdown",
   "metadata": {},
   "source": [
    "### Do readers who prefer fiction books read more pages on average?\n",
    "\n",
    "I have a hypothesis that people who prefer fiction books reads more pages on average than those who mostly reads non-fiction books, as from experience reading a long fiction book is more fun than reading a long non-fiction book. So let's prove if my assumption is correct or not :)\n",
    "\n",
    "#### H0: The mean(page) of readers who prefer fiction books <= The mean(page) of readers who prefer non-fiction books\n",
    "\n",
    "#### H1: The mean(page) of readers who prefer fiction books > The mean(page) of readers who prefer non-fiction books"
   ]
  },
  {
   "cell_type": "code",
   "execution_count": 24,
   "metadata": {},
   "outputs": [],
   "source": [
    "# readers who prefer fiction books\n",
    "fic = data[data['category_simplified'] == 1]['total_page']\n",
    "# readers who prefer non-fiction books\n",
    "nonfic = data[data['category_simplified'] == 0]['total_page']"
   ]
  },
  {
   "cell_type": "code",
   "execution_count": 25,
   "metadata": {},
   "outputs": [
    {
     "name": "stdout",
     "output_type": "stream",
     "text": [
      "p-value:  0.03 | alpha:  0.05\n",
      "Dependent (reject H0)\n"
     ]
    }
   ],
   "source": [
    "alpha = 0.05\n",
    "alpha = 1.0 - prob\n",
    "\n",
    "stat, p_value = st.ttest_ind(fic, nonfic, equal_var=False, alternative= 'greater')\n",
    "\n",
    "if pval <= alpha:\n",
    "\tprint('p-value: ' ,round(pval, 2), '| alpha: ', round(alpha, 2))\n",
    "\tprint('Dependent (reject H0)')\n",
    "else:\n",
    "\tprint('p-value: ' ,round(pval, 2), '| alpha: ', round(alpha, 2))\n",
    "\tprint('Independent (fail to reject H0)')"
   ]
  },
  {
   "cell_type": "markdown",
   "metadata": {},
   "source": [
    "#### Conclusion\n",
    "According to the test results, my hypothesis is correct and we can reject the null hypothesis with the confidence level of 95%.\n",
    "It seems that readers who prefer to read fiction books are more likely to read more pages in average than those who prefer to read non-fiction books.\n",
    "\n",
    "\n",
    "\n",
    "-----"
   ]
  },
  {
   "cell_type": "markdown",
   "metadata": {},
   "source": [
    "### Do readers who used the app more actively more likely to complete all the challenges?\n",
    "I would like to know if the readers who use the website/app (goodreads) more actively are more likely to be motivated to complete the challenges. So for this I decided 2 ways to measure how active a user are; by how many books they rate and how many reviews they leave.\n",
    "\n",
    "#### H0: The mean(ratings count) of readers are equal despite how many challenges they completed\n",
    "#### H1: The mean(ratings count) of readers are not equal"
   ]
  },
  {
   "cell_type": "code",
   "execution_count": 26,
   "metadata": {},
   "outputs": [
    {
     "data": {
      "image/png": "[encoded data removed]",
      "text/plain": [
       "<Figure size 648x360 with 1 Axes>"
      ]
     },
     "metadata": {
      "needs_background": "light"
     },
     "output_type": "display_data"
    }
   ],
   "source": [
    "# let's first plot the data in a bar chart to visualise it\n",
    "plt.figure(figsize= (9,5))\n",
    "sns.barplot(x = 'challenge_completed', y= 'ratings_count', data=data)\n",
    "plt.xticks([0,1,2,3])\n",
    "plt.xlabel('Challenge Completed')\n",
    "plt.ylabel('No. of ratings')\n",
    "plt.show()"
   ]
  },
  {
   "cell_type": "code",
   "execution_count": 27,
   "metadata": {},
   "outputs": [
    {
     "name": "stdout",
     "output_type": "stream",
     "text": [
      "p-value:  0.0 | alpha:  0.05\n",
      "Dependent (reject H0)\n"
     ]
    }
   ],
   "source": [
    "# ANOVA one way\n",
    "c3 = data[data['challenge_completed'] == 3]['ratings_count']\n",
    "c2 = data[data['challenge_completed'] == 2]['ratings_count']\n",
    "c1 = data[data['challenge_completed'] == 1]['ratings_count']\n",
    "c0 = data[data['challenge_completed'] == 0]['ratings_count']\n",
    "\n",
    "stats, pval = st.f_oneway(c0,c1,c2,c3)\n",
    "alpha = 0.05\n",
    "if pval <= alpha:\n",
    "\tprint('p-value: ' ,round(pval, 2), '| alpha: ', round(alpha, 2))\n",
    "\tprint('Dependent (reject H0)')\n",
    "else:\n",
    "\tprint('p-value: ' ,round(pval, 2), '| alpha: ', round(alpha, 2))\n",
    "\tprint('Independent (fail to reject H0)')"
   ]
  },
  {
   "cell_type": "markdown",
   "metadata": {},
   "source": [
    "#### H0: The mean(reviews count) of readers are equal despite how many challenges they completed\n",
    "#### H1: The mean(reviews count) of readers are not equal"
   ]
  },
  {
   "cell_type": "code",
   "execution_count": 28,
   "metadata": {},
   "outputs": [
    {
     "data": {
      "image/png": "[encoded data removed]",
      "text/plain": [
       "<Figure size 648x360 with 1 Axes>"
      ]
     },
     "metadata": {
      "needs_background": "light"
     },
     "output_type": "display_data"
    }
   ],
   "source": [
    "# let's first plot the data in a bar chart to visualise it\n",
    "plt.figure(figsize= (9,5))\n",
    "sns.barplot(x = 'challenge_completed', y= 'reviews_count', data=data)\n",
    "plt.xticks([0,1,2,3])\n",
    "plt.xlabel('Challenge Completed')\n",
    "plt.ylabel('No. of ratings')\n",
    "plt.show()"
   ]
  },
  {
   "cell_type": "code",
   "execution_count": 29,
   "metadata": {},
   "outputs": [
    {
     "name": "stdout",
     "output_type": "stream",
     "text": [
      "p-value:  0.0 | alpha:  0.05\n",
      "Dependent (reject H0)\n"
     ]
    }
   ],
   "source": [
    "# ANOVA one way\n",
    "c3 = data[data['challenge_completed'] == 3]['reviews_count']\n",
    "c2 = data[data['challenge_completed'] == 2]['reviews_count']\n",
    "c1 = data[data['challenge_completed'] == 1]['reviews_count']\n",
    "c0 = data[data['challenge_completed'] == 0]['reviews_count']\n",
    "\n",
    "stats, pval = st.f_oneway(c0,c1,c2,c3)\n",
    "alpha = 0.05\n",
    "if pval <= alpha:\n",
    "\tprint('p-value: ' ,round(pval, 2), '| alpha: ', round(alpha, 2))\n",
    "\tprint('Dependent (reject H0)')\n",
    "else:\n",
    "\tprint('p-value: ' ,round(pval, 2), '| alpha: ', round(alpha, 2))\n",
    "\tprint('Independent (fail to reject H0)')"
   ]
  },
  {
   "cell_type": "markdown",
   "metadata": {},
   "source": [
    "#### Conclusion\n",
    "Based on the tests that is done, it seems that readers that leave more ratings or reviews are more likely to complete the challenge."
   ]
  }
 ],
 "metadata": {
  "interpreter": {
   "hash": "230cc8c7cdd077aa88b3561628854d7083ae07a0dff34af51f1b75b7358a6b25"
  },
  "kernelspec": {
   "display_name": "Python 3.9.7 ('ironhack')",
   "language": "python",
   "name": "python3"
  },
  "language_info": {
   "codemirror_mode": {
    "name": "ipython",
    "version": 3
   },
   "file_extension": ".py",
   "mimetype": "text/x-python",
   "name": "python",
   "nbconvert_exporter": "python",
   "pygments_lexer": "ipython3",
   "version": "3.9.7"
  },
  "orig_nbformat": 4
 },
 "nbformat": 4,
 "nbformat_minor": 2
}

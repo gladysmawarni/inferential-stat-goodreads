{
 "cells": [
  {
   "cell_type": "code",
   "execution_count": 1,
   "metadata": {},
   "outputs": [],
   "source": [
    "# import necessary libraries \n",
    "import pandas as pd\n",
    "import numpy as np\n",
    "import matplotlib.pyplot as plt\n",
    "import seaborn as sns\n",
    "from scipy.stats import chi2_contingency\n",
    "from sklearn import linear_model\n",
    "from sklearn.linear_model import LogisticRegression\n",
    "import scipy.stats as st\n",
    "from scipy import stats"
   ]
  },
  {
   "cell_type": "code",
   "execution_count": 2,
   "metadata": {},
   "outputs": [
    {
     "data": {
      "text/html": [
       "<div>\n",
       "<style scoped>\n",
       "    .dataframe tbody tr th:only-of-type {\n",
       "        vertical-align: middle;\n",
       "    }\n",
       "\n",
       "    .dataframe tbody tr th {\n",
       "        vertical-align: top;\n",
       "    }\n",
       "\n",
       "    .dataframe thead th {\n",
       "        text-align: right;\n",
       "    }\n",
       "</style>\n",
       "<table border=\"1\" class=\"dataframe\">\n",
       "  <thead>\n",
       "    <tr style=\"text-align: right;\">\n",
       "      <th></th>\n",
       "      <th>user_id</th>\n",
       "      <th>gender</th>\n",
       "      <th>ratings_count</th>\n",
       "      <th>reviews_count</th>\n",
       "      <th>year_joined</th>\n",
       "      <th>young_age</th>\n",
       "      <th>location</th>\n",
       "      <th>friends</th>\n",
       "      <th>fav_genres</th>\n",
       "      <th>groups_count</th>\n",
       "      <th>...</th>\n",
       "      <th>avg_page_18</th>\n",
       "      <th>2019</th>\n",
       "      <th>avg_page_19</th>\n",
       "      <th>2020</th>\n",
       "      <th>avg_page_20</th>\n",
       "      <th>fav_genres2</th>\n",
       "      <th>category</th>\n",
       "      <th>category_simplified</th>\n",
       "      <th>total_page</th>\n",
       "      <th>challenge_completed</th>\n",
       "    </tr>\n",
       "  </thead>\n",
       "  <tbody>\n",
       "    <tr>\n",
       "      <th>0</th>\n",
       "      <td>1</td>\n",
       "      <td>1</td>\n",
       "      <td>806</td>\n",
       "      <td>34</td>\n",
       "      <td>2014</td>\n",
       "      <td>1</td>\n",
       "      <td>Asia</td>\n",
       "      <td>103</td>\n",
       "      <td>['Chick-lit', 'Christian', 'Ebooks', 'Fantasy'...</td>\n",
       "      <td>6</td>\n",
       "      <td>...</td>\n",
       "      <td>209</td>\n",
       "      <td>0</td>\n",
       "      <td>199</td>\n",
       "      <td>1</td>\n",
       "      <td>297</td>\n",
       "      <td>['Romance', 'Religion', 'Fiction', 'Fiction', ...</td>\n",
       "      <td>{'Fiction', 'Non-fiction'}</td>\n",
       "      <td>1</td>\n",
       "      <td>705</td>\n",
       "      <td>1</td>\n",
       "    </tr>\n",
       "    <tr>\n",
       "      <th>1</th>\n",
       "      <td>2</td>\n",
       "      <td>1</td>\n",
       "      <td>822</td>\n",
       "      <td>90</td>\n",
       "      <td>2013</td>\n",
       "      <td>0</td>\n",
       "      <td>USA</td>\n",
       "      <td>225</td>\n",
       "      <td>['Chick-lit', 'Contemporary', 'Fantasy', 'Fict...</td>\n",
       "      <td>0</td>\n",
       "      <td>...</td>\n",
       "      <td>388</td>\n",
       "      <td>1</td>\n",
       "      <td>383</td>\n",
       "      <td>1</td>\n",
       "      <td>355</td>\n",
       "      <td>['Romance', 'Fiction', 'Fiction', 'Fiction', '...</td>\n",
       "      <td>{'Fiction', 'Non-fiction'}</td>\n",
       "      <td>1</td>\n",
       "      <td>1126</td>\n",
       "      <td>3</td>\n",
       "    </tr>\n",
       "    <tr>\n",
       "      <th>2</th>\n",
       "      <td>3</td>\n",
       "      <td>1</td>\n",
       "      <td>114</td>\n",
       "      <td>4</td>\n",
       "      <td>2014</td>\n",
       "      <td>1</td>\n",
       "      <td>Asia</td>\n",
       "      <td>7</td>\n",
       "      <td>['Chick-lit', 'Contemporary', 'Ebooks', 'Roman...</td>\n",
       "      <td>1</td>\n",
       "      <td>...</td>\n",
       "      <td>288</td>\n",
       "      <td>1</td>\n",
       "      <td>292</td>\n",
       "      <td>0</td>\n",
       "      <td>284</td>\n",
       "      <td>['Romance', 'Fiction', 'Romance', 'Self help',...</td>\n",
       "      <td>{'Fiction', 'Non-fiction'}</td>\n",
       "      <td>1</td>\n",
       "      <td>864</td>\n",
       "      <td>2</td>\n",
       "    </tr>\n",
       "    <tr>\n",
       "      <th>3</th>\n",
       "      <td>4</td>\n",
       "      <td>1</td>\n",
       "      <td>1265</td>\n",
       "      <td>630</td>\n",
       "      <td>2015</td>\n",
       "      <td>1</td>\n",
       "      <td>Asia</td>\n",
       "      <td>588</td>\n",
       "      <td>['Fantasy', 'Historical fiction', 'Manga', 'Yo...</td>\n",
       "      <td>1</td>\n",
       "      <td>...</td>\n",
       "      <td>302</td>\n",
       "      <td>1</td>\n",
       "      <td>346</td>\n",
       "      <td>1</td>\n",
       "      <td>380</td>\n",
       "      <td>['Fiction', 'Fiction', 'Comics', 'Young-adult']</td>\n",
       "      <td>{'Fiction'}</td>\n",
       "      <td>1</td>\n",
       "      <td>1028</td>\n",
       "      <td>3</td>\n",
       "    </tr>\n",
       "    <tr>\n",
       "      <th>4</th>\n",
       "      <td>5</td>\n",
       "      <td>1</td>\n",
       "      <td>380</td>\n",
       "      <td>1</td>\n",
       "      <td>2014</td>\n",
       "      <td>0</td>\n",
       "      <td>EU</td>\n",
       "      <td>56</td>\n",
       "      <td>['Comics', 'Fantasy', 'Historical fiction', 'H...</td>\n",
       "      <td>1</td>\n",
       "      <td>...</td>\n",
       "      <td>327</td>\n",
       "      <td>1</td>\n",
       "      <td>628</td>\n",
       "      <td>0</td>\n",
       "      <td>278</td>\n",
       "      <td>['Comics', 'Fiction', 'Fiction', 'Humor Comedy...</td>\n",
       "      <td>{'Fiction', 'Non-fiction'}</td>\n",
       "      <td>1</td>\n",
       "      <td>1233</td>\n",
       "      <td>2</td>\n",
       "    </tr>\n",
       "  </tbody>\n",
       "</table>\n",
       "<p>5 rows × 21 columns</p>\n",
       "</div>"
      ],
      "text/plain": [
       "   user_id  gender  ratings_count  reviews_count  year_joined  young_age  \\\n",
       "0        1       1            806             34         2014          1   \n",
       "1        2       1            822             90         2013          0   \n",
       "2        3       1            114              4         2014          1   \n",
       "3        4       1           1265            630         2015          1   \n",
       "4        5       1            380              1         2014          0   \n",
       "\n",
       "  location  friends                                         fav_genres  \\\n",
       "0     Asia      103  ['Chick-lit', 'Christian', 'Ebooks', 'Fantasy'...   \n",
       "1      USA      225  ['Chick-lit', 'Contemporary', 'Fantasy', 'Fict...   \n",
       "2     Asia        7  ['Chick-lit', 'Contemporary', 'Ebooks', 'Roman...   \n",
       "3     Asia      588  ['Fantasy', 'Historical fiction', 'Manga', 'Yo...   \n",
       "4       EU       56  ['Comics', 'Fantasy', 'Historical fiction', 'H...   \n",
       "\n",
       "   groups_count  ...  avg_page_18  2019  avg_page_19  2020  avg_page_20  \\\n",
       "0             6  ...          209     0          199     1          297   \n",
       "1             0  ...          388     1          383     1          355   \n",
       "2             1  ...          288     1          292     0          284   \n",
       "3             1  ...          302     1          346     1          380   \n",
       "4             1  ...          327     1          628     0          278   \n",
       "\n",
       "                                         fav_genres2  \\\n",
       "0  ['Romance', 'Religion', 'Fiction', 'Fiction', ...   \n",
       "1  ['Romance', 'Fiction', 'Fiction', 'Fiction', '...   \n",
       "2  ['Romance', 'Fiction', 'Romance', 'Self help',...   \n",
       "3    ['Fiction', 'Fiction', 'Comics', 'Young-adult']   \n",
       "4  ['Comics', 'Fiction', 'Fiction', 'Humor Comedy...   \n",
       "\n",
       "                     category category_simplified  total_page  \\\n",
       "0  {'Fiction', 'Non-fiction'}                   1         705   \n",
       "1  {'Fiction', 'Non-fiction'}                   1        1126   \n",
       "2  {'Fiction', 'Non-fiction'}                   1         864   \n",
       "3                 {'Fiction'}                   1        1028   \n",
       "4  {'Fiction', 'Non-fiction'}                   1        1233   \n",
       "\n",
       "   challenge_completed  \n",
       "0                    1  \n",
       "1                    3  \n",
       "2                    2  \n",
       "3                    3  \n",
       "4                    2  \n",
       "\n",
       "[5 rows x 21 columns]"
      ]
     },
     "execution_count": 2,
     "metadata": {},
     "output_type": "execute_result"
    }
   ],
   "source": [
    "# read the data and drop unnecessary column \n",
    "data = pd.read_csv('goodreads_clean.csv')\n",
    "data.drop(columns= 'Unnamed: 0', inplace=True)\n",
    "data.head()"
   ]
  },
  {
   "cell_type": "code",
   "execution_count": 3,
   "metadata": {},
   "outputs": [
    {
     "data": {
      "image/png": "[encoded data removed]",
      "text/plain": [
       "<Figure size 432x288 with 2 Axes>"
      ]
     },
     "metadata": {
      "needs_background": "light"
     },
     "output_type": "display_data"
    }
   ],
   "source": [
    "# heatmap correlation of the data\n",
    "sns.heatmap(data.corr())\n",
    "plt.show()"
   ]
  },
  {
   "cell_type": "markdown",
   "metadata": {},
   "source": [
    "### are there any correlations between genre preferences and completing the challenge?"
   ]
  },
  {
   "cell_type": "markdown",
   "metadata": {},
   "source": [
    "H0: the reader's genre preferences does not influence the completion of challenge\n",
    "\n",
    "H1: the reader's genre preferences and the completion of challenge are related "
   ]
  },
  {
   "cell_type": "code",
   "execution_count": 104,
   "metadata": {},
   "outputs": [
    {
     "data": {
      "text/html": [
       "<div>\n",
       "<style scoped>\n",
       "    .dataframe tbody tr th:only-of-type {\n",
       "        vertical-align: middle;\n",
       "    }\n",
       "\n",
       "    .dataframe tbody tr th {\n",
       "        vertical-align: top;\n",
       "    }\n",
       "\n",
       "    .dataframe thead th {\n",
       "        text-align: right;\n",
       "    }\n",
       "</style>\n",
       "<table border=\"1\" class=\"dataframe\">\n",
       "  <thead>\n",
       "    <tr style=\"text-align: right;\">\n",
       "      <th>challenge_completed</th>\n",
       "      <th>0</th>\n",
       "      <th>1</th>\n",
       "      <th>2</th>\n",
       "      <th>3</th>\n",
       "    </tr>\n",
       "    <tr>\n",
       "      <th>category_simplified</th>\n",
       "      <th></th>\n",
       "      <th></th>\n",
       "      <th></th>\n",
       "      <th></th>\n",
       "    </tr>\n",
       "  </thead>\n",
       "  <tbody>\n",
       "    <tr>\n",
       "      <th>0</th>\n",
       "      <td>9</td>\n",
       "      <td>8</td>\n",
       "      <td>9</td>\n",
       "      <td>8</td>\n",
       "    </tr>\n",
       "    <tr>\n",
       "      <th>1</th>\n",
       "      <td>11</td>\n",
       "      <td>12</td>\n",
       "      <td>16</td>\n",
       "      <td>27</td>\n",
       "    </tr>\n",
       "  </tbody>\n",
       "</table>\n",
       "</div>"
      ],
      "text/plain": [
       "challenge_completed   0   1   2   3\n",
       "category_simplified                \n",
       "0                     9   8   9   8\n",
       "1                    11  12  16  27"
      ]
     },
     "execution_count": 104,
     "metadata": {},
     "output_type": "execute_result"
    }
   ],
   "source": [
    "# used pandas crosstab to build a cross-tabulation table \n",
    "# that can show the frequency with which certain groups of data appear.\n",
    "pd.crosstab(data['category_simplified'], data['challenge_completed'])"
   ]
  },
  {
   "cell_type": "code",
   "execution_count": 105,
   "metadata": {},
   "outputs": [
    {
     "data": {
      "text/plain": [
       "(3.3804430863254384,\n",
       " 0.3366024773986313,\n",
       " 3,\n",
       " array([[ 6.8,  6.8,  8.5, 11.9],\n",
       "        [13.2, 13.2, 16.5, 23.1]]))"
      ]
     },
     "execution_count": 105,
     "metadata": {},
     "output_type": "execute_result"
    }
   ],
   "source": [
    "# chi2_contingency computes the chi-square statistic and p-value for the hypothesis test of independence \n",
    "# of the observed frequencies in the contingency table\n",
    "\n",
    "alpha = 0.10\n",
    "st.chi2_contingency(pd.crosstab(data['category_simplified'], data['challenge_completed']))\n",
    "\n",
    "# 1st value = stat\n",
    "# 2nd value = p-value\n",
    "# 3rd value = degrees of freedom = (num of columns - 1) * (num of rows -1) = (2-1)*(3-1)\n",
    "# 4th value = array of expected value"
   ]
  },
  {
   "cell_type": "markdown",
   "metadata": {},
   "source": [
    "- the p_value is bigger than the alpha\n",
    "- we do not reject the null hypothesis"
   ]
  },
  {
   "cell_type": "markdown",
   "metadata": {},
   "source": [
    "### do any groups (gender or age) have a preferences on fiction or non-fiction?"
   ]
  },
  {
   "cell_type": "markdown",
   "metadata": {},
   "source": [
    "H0: the reader's gender does not influence their genre preference\n",
    "\n",
    "H1: the reader's gender and the genre preference are related"
   ]
  },
  {
   "cell_type": "code",
   "execution_count": 106,
   "metadata": {},
   "outputs": [
    {
     "data": {
      "text/html": [
       "<div>\n",
       "<style scoped>\n",
       "    .dataframe tbody tr th:only-of-type {\n",
       "        vertical-align: middle;\n",
       "    }\n",
       "\n",
       "    .dataframe tbody tr th {\n",
       "        vertical-align: top;\n",
       "    }\n",
       "\n",
       "    .dataframe thead th {\n",
       "        text-align: right;\n",
       "    }\n",
       "</style>\n",
       "<table border=\"1\" class=\"dataframe\">\n",
       "  <thead>\n",
       "    <tr style=\"text-align: right;\">\n",
       "      <th>gender</th>\n",
       "      <th>0</th>\n",
       "      <th>1</th>\n",
       "    </tr>\n",
       "    <tr>\n",
       "      <th>category_simplified</th>\n",
       "      <th></th>\n",
       "      <th></th>\n",
       "    </tr>\n",
       "  </thead>\n",
       "  <tbody>\n",
       "    <tr>\n",
       "      <th>0</th>\n",
       "      <td>22</td>\n",
       "      <td>12</td>\n",
       "    </tr>\n",
       "    <tr>\n",
       "      <th>1</th>\n",
       "      <td>28</td>\n",
       "      <td>38</td>\n",
       "    </tr>\n",
       "  </tbody>\n",
       "</table>\n",
       "</div>"
      ],
      "text/plain": [
       "gender                0   1\n",
       "category_simplified        \n",
       "0                    22  12\n",
       "1                    28  38"
      ]
     },
     "execution_count": 106,
     "metadata": {},
     "output_type": "execute_result"
    }
   ],
   "source": [
    "pd.crosstab(data['category_simplified'], data['gender'])"
   ]
  },
  {
   "cell_type": "code",
   "execution_count": 107,
   "metadata": {},
   "outputs": [
    {
     "data": {
      "text/plain": [
       "(3.609625668449198,\n",
       " 0.05744604858214854,\n",
       " 1,\n",
       " array([[17., 17.],\n",
       "        [33., 33.]]))"
      ]
     },
     "execution_count": 107,
     "metadata": {},
     "output_type": "execute_result"
    }
   ],
   "source": [
    "alpha = 0.10\n",
    "chi2_contingency(pd.crosstab(data['category_simplified'], data['gender']))"
   ]
  },
  {
   "cell_type": "markdown",
   "metadata": {},
   "source": [
    "- the p_value is smaller than the alpha\n",
    "- we reject the null hypothesis\n",
    "- there seems to be a correlation between gender and genre preference"
   ]
  },
  {
   "cell_type": "markdown",
   "metadata": {},
   "source": [
    "H0: the reader's age does not influence their genre preference\n",
    "\n",
    "H1: the reader's age and the genre preference are related"
   ]
  },
  {
   "cell_type": "code",
   "execution_count": 108,
   "metadata": {},
   "outputs": [
    {
     "data": {
      "text/html": [
       "<div>\n",
       "<style scoped>\n",
       "    .dataframe tbody tr th:only-of-type {\n",
       "        vertical-align: middle;\n",
       "    }\n",
       "\n",
       "    .dataframe tbody tr th {\n",
       "        vertical-align: top;\n",
       "    }\n",
       "\n",
       "    .dataframe thead th {\n",
       "        text-align: right;\n",
       "    }\n",
       "</style>\n",
       "<table border=\"1\" class=\"dataframe\">\n",
       "  <thead>\n",
       "    <tr style=\"text-align: right;\">\n",
       "      <th>young_age</th>\n",
       "      <th>0</th>\n",
       "      <th>1</th>\n",
       "    </tr>\n",
       "    <tr>\n",
       "      <th>category_simplified</th>\n",
       "      <th></th>\n",
       "      <th></th>\n",
       "    </tr>\n",
       "  </thead>\n",
       "  <tbody>\n",
       "    <tr>\n",
       "      <th>0</th>\n",
       "      <td>16</td>\n",
       "      <td>18</td>\n",
       "    </tr>\n",
       "    <tr>\n",
       "      <th>1</th>\n",
       "      <td>22</td>\n",
       "      <td>44</td>\n",
       "    </tr>\n",
       "  </tbody>\n",
       "</table>\n",
       "</div>"
      ],
      "text/plain": [
       "young_age             0   1\n",
       "category_simplified        \n",
       "0                    16  18\n",
       "1                    22  44"
      ]
     },
     "execution_count": 108,
     "metadata": {},
     "output_type": "execute_result"
    }
   ],
   "source": [
    "pd.crosstab(data['category_simplified'], data['young_age'])"
   ]
  },
  {
   "cell_type": "code",
   "execution_count": 109,
   "metadata": {},
   "outputs": [
    {
     "data": {
      "text/plain": [
       "(1.2590450596043314,\n",
       " 0.2618319251912097,\n",
       " 1,\n",
       " array([[12.92, 21.08],\n",
       "        [25.08, 40.92]]))"
      ]
     },
     "execution_count": 109,
     "metadata": {},
     "output_type": "execute_result"
    }
   ],
   "source": [
    "chi2_contingency(pd.crosstab(data['category_simplified'], data['young_age']))"
   ]
  },
  {
   "cell_type": "code",
   "execution_count": 21,
   "metadata": {},
   "outputs": [
    {
     "data": {
      "text/html": [
       "<div>\n",
       "<style scoped>\n",
       "    .dataframe tbody tr th:only-of-type {\n",
       "        vertical-align: middle;\n",
       "    }\n",
       "\n",
       "    .dataframe tbody tr th {\n",
       "        vertical-align: top;\n",
       "    }\n",
       "\n",
       "    .dataframe thead th {\n",
       "        text-align: right;\n",
       "    }\n",
       "</style>\n",
       "<table border=\"1\" class=\"dataframe\">\n",
       "  <thead>\n",
       "    <tr style=\"text-align: right;\">\n",
       "      <th>location</th>\n",
       "      <th>Asia</th>\n",
       "      <th>EU</th>\n",
       "      <th>USA</th>\n",
       "    </tr>\n",
       "    <tr>\n",
       "      <th>category_simplified</th>\n",
       "      <th></th>\n",
       "      <th></th>\n",
       "      <th></th>\n",
       "    </tr>\n",
       "  </thead>\n",
       "  <tbody>\n",
       "    <tr>\n",
       "      <th>0</th>\n",
       "      <td>10</td>\n",
       "      <td>14</td>\n",
       "      <td>10</td>\n",
       "    </tr>\n",
       "    <tr>\n",
       "      <th>1</th>\n",
       "      <td>24</td>\n",
       "      <td>23</td>\n",
       "      <td>19</td>\n",
       "    </tr>\n",
       "  </tbody>\n",
       "</table>\n",
       "</div>"
      ],
      "text/plain": [
       "location             Asia  EU  USA\n",
       "category_simplified               \n",
       "0                      10  14   10\n",
       "1                      24  23   19"
      ]
     },
     "execution_count": 21,
     "metadata": {},
     "output_type": "execute_result"
    }
   ],
   "source": [
    "pd.crosstab(data['category_simplified'], data['location'])"
   ]
  },
  {
   "cell_type": "code",
   "execution_count": 23,
   "metadata": {},
   "outputs": [
    {
     "data": {
      "text/plain": [
       "(0.5648379231483874,\n",
       " 0.7539577390319778,\n",
       " 2,\n",
       " array([[11.56, 12.58,  9.86],\n",
       "        [22.44, 24.42, 19.14]]))"
      ]
     },
     "execution_count": 23,
     "metadata": {},
     "output_type": "execute_result"
    }
   ],
   "source": [
    "chi2_contingency(pd.crosstab(data['category_simplified'], data['location']))"
   ]
  },
  {
   "cell_type": "markdown",
   "metadata": {},
   "source": [
    "- the p_value is bigger than the alpha\n",
    "- we do not reject the null hypothesis"
   ]
  },
  {
   "cell_type": "markdown",
   "metadata": {},
   "source": [
    "### reader's characteristics and completion of challenge"
   ]
  },
  {
   "cell_type": "code",
   "execution_count": 3,
   "metadata": {},
   "outputs": [
    {
     "data": {
      "text/html": [
       "<div>\n",
       "<style scoped>\n",
       "    .dataframe tbody tr th:only-of-type {\n",
       "        vertical-align: middle;\n",
       "    }\n",
       "\n",
       "    .dataframe tbody tr th {\n",
       "        vertical-align: top;\n",
       "    }\n",
       "\n",
       "    .dataframe thead th {\n",
       "        text-align: right;\n",
       "    }\n",
       "</style>\n",
       "<table border=\"1\" class=\"dataframe\">\n",
       "  <thead>\n",
       "    <tr style=\"text-align: right;\">\n",
       "      <th>challenge_completed</th>\n",
       "      <th>0</th>\n",
       "      <th>1</th>\n",
       "      <th>2</th>\n",
       "      <th>3</th>\n",
       "    </tr>\n",
       "    <tr>\n",
       "      <th>gender</th>\n",
       "      <th></th>\n",
       "      <th></th>\n",
       "      <th></th>\n",
       "      <th></th>\n",
       "    </tr>\n",
       "  </thead>\n",
       "  <tbody>\n",
       "    <tr>\n",
       "      <th>0</th>\n",
       "      <td>12</td>\n",
       "      <td>10</td>\n",
       "      <td>11</td>\n",
       "      <td>17</td>\n",
       "    </tr>\n",
       "    <tr>\n",
       "      <th>1</th>\n",
       "      <td>8</td>\n",
       "      <td>10</td>\n",
       "      <td>14</td>\n",
       "      <td>18</td>\n",
       "    </tr>\n",
       "  </tbody>\n",
       "</table>\n",
       "</div>"
      ],
      "text/plain": [
       "challenge_completed   0   1   2   3\n",
       "gender                             \n",
       "0                    12  10  11  17\n",
       "1                     8  10  14  18"
      ]
     },
     "execution_count": 3,
     "metadata": {},
     "output_type": "execute_result"
    }
   ],
   "source": [
    "pd.crosstab(data['gender'], data['challenge_completed'])"
   ]
  },
  {
   "cell_type": "code",
   "execution_count": 4,
   "metadata": {},
   "outputs": [
    {
     "data": {
      "text/plain": [
       "(1.1885714285714286,\n",
       " 0.7557466401166559,\n",
       " 3,\n",
       " array([[10. , 10. , 12.5, 17.5],\n",
       "        [10. , 10. , 12.5, 17.5]]))"
      ]
     },
     "execution_count": 4,
     "metadata": {},
     "output_type": "execute_result"
    }
   ],
   "source": [
    "chi2_contingency(pd.crosstab(data['gender'], data['challenge_completed']))"
   ]
  },
  {
   "cell_type": "code",
   "execution_count": 19,
   "metadata": {},
   "outputs": [
    {
     "data": {
      "text/html": [
       "<div>\n",
       "<style scoped>\n",
       "    .dataframe tbody tr th:only-of-type {\n",
       "        vertical-align: middle;\n",
       "    }\n",
       "\n",
       "    .dataframe tbody tr th {\n",
       "        vertical-align: top;\n",
       "    }\n",
       "\n",
       "    .dataframe thead th {\n",
       "        text-align: right;\n",
       "    }\n",
       "</style>\n",
       "<table border=\"1\" class=\"dataframe\">\n",
       "  <thead>\n",
       "    <tr style=\"text-align: right;\">\n",
       "      <th>challenge_completed</th>\n",
       "      <th>0</th>\n",
       "      <th>1</th>\n",
       "      <th>2</th>\n",
       "      <th>3</th>\n",
       "    </tr>\n",
       "    <tr>\n",
       "      <th>location</th>\n",
       "      <th></th>\n",
       "      <th></th>\n",
       "      <th></th>\n",
       "      <th></th>\n",
       "    </tr>\n",
       "  </thead>\n",
       "  <tbody>\n",
       "    <tr>\n",
       "      <th>Asia</th>\n",
       "      <td>9</td>\n",
       "      <td>9</td>\n",
       "      <td>7</td>\n",
       "      <td>9</td>\n",
       "    </tr>\n",
       "    <tr>\n",
       "      <th>EU</th>\n",
       "      <td>6</td>\n",
       "      <td>5</td>\n",
       "      <td>13</td>\n",
       "      <td>13</td>\n",
       "    </tr>\n",
       "    <tr>\n",
       "      <th>USA</th>\n",
       "      <td>5</td>\n",
       "      <td>6</td>\n",
       "      <td>5</td>\n",
       "      <td>13</td>\n",
       "    </tr>\n",
       "  </tbody>\n",
       "</table>\n",
       "</div>"
      ],
      "text/plain": [
       "challenge_completed  0  1   2   3\n",
       "location                         \n",
       "Asia                 9  9   7   9\n",
       "EU                   6  5  13  13\n",
       "USA                  5  6   5  13"
      ]
     },
     "execution_count": 19,
     "metadata": {},
     "output_type": "execute_result"
    }
   ],
   "source": [
    "pd.crosstab(data['location'], data['challenge_completed'])"
   ]
  },
  {
   "cell_type": "code",
   "execution_count": 20,
   "metadata": {},
   "outputs": [
    {
     "data": {
      "text/plain": [
       "(6.574428093697871,\n",
       " 0.3620007193304665,\n",
       " 6,\n",
       " array([[ 6.8 ,  6.8 ,  8.5 , 11.9 ],\n",
       "        [ 7.4 ,  7.4 ,  9.25, 12.95],\n",
       "        [ 5.8 ,  5.8 ,  7.25, 10.15]]))"
      ]
     },
     "execution_count": 20,
     "metadata": {},
     "output_type": "execute_result"
    }
   ],
   "source": [
    "chi2_contingency(pd.crosstab(data['location'], data['challenge_completed']))"
   ]
  },
  {
   "cell_type": "code",
   "execution_count": 5,
   "metadata": {},
   "outputs": [
    {
     "data": {
      "text/html": [
       "<div>\n",
       "<style scoped>\n",
       "    .dataframe tbody tr th:only-of-type {\n",
       "        vertical-align: middle;\n",
       "    }\n",
       "\n",
       "    .dataframe tbody tr th {\n",
       "        vertical-align: top;\n",
       "    }\n",
       "\n",
       "    .dataframe thead th {\n",
       "        text-align: right;\n",
       "    }\n",
       "</style>\n",
       "<table border=\"1\" class=\"dataframe\">\n",
       "  <thead>\n",
       "    <tr style=\"text-align: right;\">\n",
       "      <th>challenge_completed</th>\n",
       "      <th>0</th>\n",
       "      <th>1</th>\n",
       "      <th>2</th>\n",
       "      <th>3</th>\n",
       "    </tr>\n",
       "    <tr>\n",
       "      <th>young_age</th>\n",
       "      <th></th>\n",
       "      <th></th>\n",
       "      <th></th>\n",
       "      <th></th>\n",
       "    </tr>\n",
       "  </thead>\n",
       "  <tbody>\n",
       "    <tr>\n",
       "      <th>0</th>\n",
       "      <td>6</td>\n",
       "      <td>6</td>\n",
       "      <td>9</td>\n",
       "      <td>17</td>\n",
       "    </tr>\n",
       "    <tr>\n",
       "      <th>1</th>\n",
       "      <td>14</td>\n",
       "      <td>14</td>\n",
       "      <td>16</td>\n",
       "      <td>18</td>\n",
       "    </tr>\n",
       "  </tbody>\n",
       "</table>\n",
       "</div>"
      ],
      "text/plain": [
       "challenge_completed   0   1   2   3\n",
       "young_age                          \n",
       "0                     6   6   9  17\n",
       "1                    14  14  16  18"
      ]
     },
     "execution_count": 5,
     "metadata": {},
     "output_type": "execute_result"
    }
   ],
   "source": [
    "pd.crosstab(data['young_age'], data['challenge_completed'])"
   ]
  },
  {
   "cell_type": "code",
   "execution_count": 6,
   "metadata": {},
   "outputs": [
    {
     "data": {
      "text/plain": [
       "(2.789231142372058,\n",
       " 0.4252757322170736,\n",
       " 3,\n",
       " array([[ 7.6,  7.6,  9.5, 13.3],\n",
       "        [12.4, 12.4, 15.5, 21.7]]))"
      ]
     },
     "execution_count": 6,
     "metadata": {},
     "output_type": "execute_result"
    }
   ],
   "source": [
    "chi2_contingency(pd.crosstab(data['young_age'], data['challenge_completed']))"
   ]
  },
  {
   "cell_type": "markdown",
   "metadata": {},
   "source": [
    "### do readers who joined more groups more likely to complete all the challenges?"
   ]
  },
  {
   "cell_type": "markdown",
   "metadata": {},
   "source": [
    "H0: number of groups of readers who completed all the challenges <= number of groups of readers who did not complete all the challenges\n",
    "\n",
    "H1: number of groups of readers who completed all the challenges > number of groups of readers who did not complete all the challenges"
   ]
  },
  {
   "cell_type": "code",
   "execution_count": 170,
   "metadata": {},
   "outputs": [],
   "source": [
    "# the variables that we want to observed and compare\n",
    "x = data[data['challenge_completed'] == 3]['groups_count']\n",
    "y = data[data['challenge_completed'] == 0]['groups_count']"
   ]
  },
  {
   "cell_type": "code",
   "execution_count": 171,
   "metadata": {},
   "outputs": [
    {
     "name": "stdout",
     "output_type": "stream",
     "text": [
      "3.026185571481203\n",
      "0.002010884312895007\n"
     ]
    },
    {
     "data": {
      "text/plain": [
       "True"
      ]
     },
     "execution_count": 171,
     "metadata": {},
     "output_type": "execute_result"
    }
   ],
   "source": [
    "# to test two groups that we cannot match observations to one another we use the t-test independent method\n",
    "alpha = 0.10\n",
    "stat, p_value = st.ttest_ind(x,y, equal_var=False, alternative= 'greater')\n",
    "print(stat)\n",
    "print(p_value)\n",
    "p_value < alpha"
   ]
  },
  {
   "cell_type": "markdown",
   "metadata": {},
   "source": [
    "- the p_value is lower when comparing 3vs2, 3vs1, 3vs0\n",
    "- we reject the null hypothesis\n",
    "- it seems that readers who joined more groups are more likely to complete all the challenges"
   ]
  },
  {
   "cell_type": "markdown",
   "metadata": {},
   "source": [
    "### do readers who have more friends more likely to complete all the challenges?"
   ]
  },
  {
   "cell_type": "markdown",
   "metadata": {},
   "source": [
    "H0: number of friends of readers who completed all the challenges <= number of friends of readers who did not complete all the challenges\n",
    "\n",
    "H1: number of friends of readers who completed all the challenges > number of friends of readers who did not complete all the challenges"
   ]
  },
  {
   "cell_type": "code",
   "execution_count": 137,
   "metadata": {},
   "outputs": [],
   "source": [
    "x = data[data['challenge_completed'] == 3]['friends']\n",
    "y = data[data['challenge_completed'] == 1]['friends']"
   ]
  },
  {
   "cell_type": "code",
   "execution_count": 138,
   "metadata": {},
   "outputs": [
    {
     "name": "stdout",
     "output_type": "stream",
     "text": [
      "1.201869043148737\n",
      "0.11871696718738231\n"
     ]
    },
    {
     "data": {
      "text/plain": [
       "False"
      ]
     },
     "execution_count": 138,
     "metadata": {},
     "output_type": "execute_result"
    }
   ],
   "source": [
    "alpha = 0.10\n",
    "stat, p_value = st.ttest_ind(x,y, equal_var=False, alternative= 'greater')\n",
    "print(stat)\n",
    "print(p_value)\n",
    "p_value < alpha"
   ]
  },
  {
   "cell_type": "markdown",
   "metadata": {},
   "source": [
    "- the p_value is lower when comparing 3vs2 and 3vs0\n",
    "- the p_value is higher when comparing 3vs1 \n",
    "- we can't say for sure that readers who have more friends are more likely to complete all the challenges"
   ]
  },
  {
   "cell_type": "markdown",
   "metadata": {},
   "source": [
    "### do young readers tend to join more groups?"
   ]
  },
  {
   "cell_type": "markdown",
   "metadata": {},
   "source": [
    "H0: number of groups of young readers <= number of groups of non-young readers\n",
    "\n",
    "H1: number of groups of young readers > number of groups of non-young readers"
   ]
  },
  {
   "cell_type": "code",
   "execution_count": 139,
   "metadata": {},
   "outputs": [],
   "source": [
    "x = data[data['young_age'] == 1]['groups_count']\n",
    "y = data[data['young_age'] == 0]['groups_count']"
   ]
  },
  {
   "cell_type": "code",
   "execution_count": 140,
   "metadata": {},
   "outputs": [
    {
     "name": "stdout",
     "output_type": "stream",
     "text": [
      "1.5197767511861682\n",
      "0.06605146700991349\n"
     ]
    },
    {
     "data": {
      "text/plain": [
       "True"
      ]
     },
     "execution_count": 140,
     "metadata": {},
     "output_type": "execute_result"
    }
   ],
   "source": [
    "alpha = 0.10\n",
    "stat, p_value = st.ttest_ind(x,y, equal_var=False, alternative= 'greater')\n",
    "print(stat)\n",
    "print(p_value)\n",
    "p_value < alpha"
   ]
  },
  {
   "cell_type": "markdown",
   "metadata": {},
   "source": [
    "- the p_value is lower\n",
    "- we reject the null hypothesis\n",
    "- it seems that young readers are more likely to join more groups"
   ]
  },
  {
   "cell_type": "code",
   "execution_count": 7,
   "metadata": {},
   "outputs": [],
   "source": [
    "x = data[data['young_age'] == 1]['friends']\n",
    "y = data[data['young_age'] == 0]['friends']"
   ]
  },
  {
   "cell_type": "code",
   "execution_count": 8,
   "metadata": {},
   "outputs": [
    {
     "name": "stdout",
     "output_type": "stream",
     "text": [
      "0.2849935808176875\n",
      "0.3882081899835877\n"
     ]
    },
    {
     "data": {
      "text/plain": [
       "False"
      ]
     },
     "execution_count": 8,
     "metadata": {},
     "output_type": "execute_result"
    }
   ],
   "source": [
    "alpha = 0.10\n",
    "stat, p_value = st.ttest_ind(x,y, equal_var=False, alternative= 'greater')\n",
    "print(stat)\n",
    "print(p_value)\n",
    "p_value < alpha"
   ]
  },
  {
   "cell_type": "markdown",
   "metadata": {},
   "source": [
    "### do female readers more sociable than male readers?"
   ]
  },
  {
   "cell_type": "markdown",
   "metadata": {},
   "source": [
    "H0: number of groups of female readers <= number of groups of male readers\n",
    "\n",
    "H1: number of groups of female readers > number of groups of male readers"
   ]
  },
  {
   "cell_type": "code",
   "execution_count": 142,
   "metadata": {},
   "outputs": [],
   "source": [
    "x = data[data['gender'] == 1]['groups_count']\n",
    "y = data[data['gender'] == 0]['groups_count']"
   ]
  },
  {
   "cell_type": "code",
   "execution_count": 144,
   "metadata": {},
   "outputs": [
    {
     "name": "stdout",
     "output_type": "stream",
     "text": [
      "0.5830700539603625\n",
      "0.280593188282426\n"
     ]
    },
    {
     "data": {
      "text/plain": [
       "False"
      ]
     },
     "execution_count": 144,
     "metadata": {},
     "output_type": "execute_result"
    }
   ],
   "source": [
    "alpha = 0.10\n",
    "stat, p_value = st.ttest_ind(x,y, equal_var=False, alternative= 'greater')\n",
    "print(stat)\n",
    "print(p_value)\n",
    "p_value < alpha"
   ]
  },
  {
   "cell_type": "markdown",
   "metadata": {},
   "source": [
    "- the p_value is higher\n",
    "- we do not reject the null hypothesis"
   ]
  },
  {
   "cell_type": "markdown",
   "metadata": {},
   "source": [
    "H0: number of friends of female readers <= number of friends of male readers\n",
    "\n",
    "H1: number of friends of female readers > number of friends of male readers"
   ]
  },
  {
   "cell_type": "code",
   "execution_count": 149,
   "metadata": {},
   "outputs": [],
   "source": [
    "x = data[data['gender'] == 1]['friends']\n",
    "y = data[data['gender'] == 0]['friends']"
   ]
  },
  {
   "cell_type": "code",
   "execution_count": 150,
   "metadata": {},
   "outputs": [
    {
     "name": "stdout",
     "output_type": "stream",
     "text": [
      "0.24572628570384805\n",
      "0.4032075404931588\n"
     ]
    },
    {
     "data": {
      "text/plain": [
       "False"
      ]
     },
     "execution_count": 150,
     "metadata": {},
     "output_type": "execute_result"
    }
   ],
   "source": [
    "alpha = 0.10\n",
    "stat, p_value = st.ttest_ind(x,y, equal_var=False, alternative= 'greater')\n",
    "print(stat)\n",
    "print(p_value)\n",
    "p_value < alpha"
   ]
  },
  {
   "cell_type": "markdown",
   "metadata": {},
   "source": [
    "- the p_value is higher\n",
    "- we do not reject the null hypothesis"
   ]
  },
  {
   "cell_type": "markdown",
   "metadata": {},
   "source": [
    "### do readers who prefer fiction books read more pages on average?"
   ]
  },
  {
   "cell_type": "markdown",
   "metadata": {},
   "source": [
    "H0: number of average page of readers who prefer fiction books <= number of average page of readers who prefer non-fiction books\n",
    "\n",
    "H1: number of average page of readers who prefer fiction books > number of average page of readers who prefer non-fiction books"
   ]
  },
  {
   "cell_type": "code",
   "execution_count": 155,
   "metadata": {},
   "outputs": [],
   "source": [
    "x = data[data['category_simplified'] == 1]['total_page']\n",
    "y = data[data['category_simplified'] == 0]['total_page']"
   ]
  },
  {
   "cell_type": "code",
   "execution_count": 156,
   "metadata": {},
   "outputs": [
    {
     "name": "stdout",
     "output_type": "stream",
     "text": [
      "1.9872559236201872\n",
      "0.025015916663800115\n"
     ]
    },
    {
     "data": {
      "text/plain": [
       "True"
      ]
     },
     "execution_count": 156,
     "metadata": {},
     "output_type": "execute_result"
    }
   ],
   "source": [
    "alpha = 0.10\n",
    "stat, p_value = st.ttest_ind(x,y, equal_var=False, alternative= 'greater')\n",
    "print(stat)\n",
    "print(p_value)\n",
    "p_value < alpha"
   ]
  },
  {
   "cell_type": "markdown",
   "metadata": {},
   "source": [
    "- the p_value is lower\n",
    "- we reject the null hypothesis\n",
    "- it seems that readers who prefer to read fiction books tend to read more pages on average"
   ]
  },
  {
   "cell_type": "markdown",
   "metadata": {},
   "source": [
    "### do people who completed all the challenges read more pages on average than those who don't?"
   ]
  },
  {
   "cell_type": "markdown",
   "metadata": {},
   "source": [
    "H0: number of average page of readers who completed all the challenges <= number of average page of readers who did not complete all the challenges\n",
    "\n",
    "H1: number of average page of readers who completed all the challenges > number of average page of readers who did not complete all the challenges"
   ]
  },
  {
   "cell_type": "code",
   "execution_count": 166,
   "metadata": {},
   "outputs": [],
   "source": [
    "x = data[data['challenge_completed'] == 3]['total_page']\n",
    "y = data[data['challenge_completed'] == 0]['total_page']"
   ]
  },
  {
   "cell_type": "code",
   "execution_count": 167,
   "metadata": {},
   "outputs": [
    {
     "name": "stdout",
     "output_type": "stream",
     "text": [
      "1.674627205759383\n",
      "0.04996306802044786\n"
     ]
    },
    {
     "data": {
      "text/plain": [
       "True"
      ]
     },
     "execution_count": 167,
     "metadata": {},
     "output_type": "execute_result"
    }
   ],
   "source": [
    "alpha = 0.10\n",
    "stat, p_value = st.ttest_ind(x,y, equal_var=False, alternative= 'greater')\n",
    "print(stat)\n",
    "print(p_value)\n",
    "p_value < alpha"
   ]
  },
  {
   "cell_type": "markdown",
   "metadata": {},
   "source": [
    "- the p_value is lower when comparing 3vs0\n",
    "- the p_value is higher when comparing 3vs1 and 3vs2\n",
    "- we can't say that people who completed all the challenges read more pages on average compared to those who did not complete the challenge"
   ]
  },
  {
   "cell_type": "markdown",
   "metadata": {},
   "source": [
    "### do people who completed previous year's challenge more likely to finish the challenge?"
   ]
  },
  {
   "cell_type": "markdown",
   "metadata": {},
   "source": [
    "H0: whether the reader completed the challenge on previous years does not influence the completion of the challenge on the next year\n",
    "\n",
    "H1: whether the reader completed the challenge on previous years does are related with the completion of the challenge on the next year"
   ]
  },
  {
   "cell_type": "code",
   "execution_count": 175,
   "metadata": {},
   "outputs": [],
   "source": [
    "# create a new data consisting of year, and a boolean value to indicate is the challenge complete or not\n",
    "data2020 = data[['2020']].copy()\n",
    "data2020['Year'] = '2020'\n",
    "data2020.rename(columns={'2020':'complete_or_not'}, inplace=True)\n",
    "\n",
    "data2019 = data[['2019']].copy()\n",
    "data2019['Year'] = '2019'\n",
    "data2019.rename(columns={'2019':'complete_or_not'}, inplace=True)\n",
    "\n",
    "data2018 = data[['2018']].copy()\n",
    "data2018['Year'] = '2018'\n",
    "data2018.rename(columns={'2018':'complete_or_not'}, inplace=True)\n",
    "\n",
    "data1 = pd.concat([data2020, data2019, data2018])"
   ]
  },
  {
   "cell_type": "code",
   "execution_count": 176,
   "metadata": {},
   "outputs": [
    {
     "data": {
      "text/html": [
       "<div>\n",
       "<style scoped>\n",
       "    .dataframe tbody tr th:only-of-type {\n",
       "        vertical-align: middle;\n",
       "    }\n",
       "\n",
       "    .dataframe tbody tr th {\n",
       "        vertical-align: top;\n",
       "    }\n",
       "\n",
       "    .dataframe thead th {\n",
       "        text-align: right;\n",
       "    }\n",
       "</style>\n",
       "<table border=\"1\" class=\"dataframe\">\n",
       "  <thead>\n",
       "    <tr style=\"text-align: right;\">\n",
       "      <th>Year</th>\n",
       "      <th>2018</th>\n",
       "      <th>2019</th>\n",
       "      <th>2020</th>\n",
       "    </tr>\n",
       "    <tr>\n",
       "      <th>complete_or_not</th>\n",
       "      <th></th>\n",
       "      <th></th>\n",
       "      <th></th>\n",
       "    </tr>\n",
       "  </thead>\n",
       "  <tbody>\n",
       "    <tr>\n",
       "      <th>0</th>\n",
       "      <td>49</td>\n",
       "      <td>40</td>\n",
       "      <td>36</td>\n",
       "    </tr>\n",
       "    <tr>\n",
       "      <th>1</th>\n",
       "      <td>51</td>\n",
       "      <td>60</td>\n",
       "      <td>64</td>\n",
       "    </tr>\n",
       "  </tbody>\n",
       "</table>\n",
       "</div>"
      ],
      "text/plain": [
       "Year             2018  2019  2020\n",
       "complete_or_not                  \n",
       "0                  49    40    36\n",
       "1                  51    60    64"
      ]
     },
     "execution_count": 176,
     "metadata": {},
     "output_type": "execute_result"
    }
   ],
   "source": [
    "pd.crosstab(data1['complete_or_not'], data1['Year'])"
   ]
  },
  {
   "cell_type": "code",
   "execution_count": 174,
   "metadata": {},
   "outputs": [
    {
     "data": {
      "text/plain": [
       "(3.648,\n",
       " 0.16137894240960496,\n",
       " 2,\n",
       " array([[41.66666667, 41.66666667, 41.66666667],\n",
       "        [58.33333333, 58.33333333, 58.33333333]]))"
      ]
     },
     "execution_count": 174,
     "metadata": {},
     "output_type": "execute_result"
    }
   ],
   "source": [
    "alpha = 0.10\n",
    "chi2_contingency(pd.crosstab(data1['complete_or_not'], data1['Year']))"
   ]
  },
  {
   "cell_type": "markdown",
   "metadata": {},
   "source": [
    "- the p_value is higher than the alpha\n",
    "- we do not reject the null hypothesis"
   ]
  },
  {
   "cell_type": "markdown",
   "metadata": {},
   "source": [
    "### do people who leave more reviews or ratings more likely to complete all the challenges?"
   ]
  },
  {
   "cell_type": "markdown",
   "metadata": {},
   "source": [
    "H0: number of reviews of readers who completed all the challenges <= number of reviews of readers who did not complete all the challenges\n",
    "\n",
    "H1: number of reviews of readers who completed all the challenges > number of reviews of readers who did not complete all the challenges"
   ]
  },
  {
   "cell_type": "code",
   "execution_count": 183,
   "metadata": {},
   "outputs": [],
   "source": [
    "x = data[data['challenge_completed'] == 3]['reviews_count']\n",
    "y = data[data['challenge_completed'] == 0]['reviews_count']"
   ]
  },
  {
   "cell_type": "code",
   "execution_count": 185,
   "metadata": {},
   "outputs": [
    {
     "name": "stdout",
     "output_type": "stream",
     "text": [
      "4.472860695512756\n",
      "4.7073440991277276e-05\n"
     ]
    },
    {
     "data": {
      "text/plain": [
       "True"
      ]
     },
     "execution_count": 185,
     "metadata": {},
     "output_type": "execute_result"
    }
   ],
   "source": [
    "alpha = 0.10\n",
    "stat, p_value = st.ttest_ind(x,y, equal_var=False)\n",
    "print(stat)\n",
    "print(p_value)\n",
    "p_value < alpha"
   ]
  },
  {
   "cell_type": "markdown",
   "metadata": {},
   "source": [
    "- the p_value is lower when comparing 3vs2, 3vs1, 3vs0\n",
    "- we reject the null hypothesis\n",
    "- it seems that readers who leave more reviews are more likely to complete all the challenges"
   ]
  },
  {
   "cell_type": "markdown",
   "metadata": {},
   "source": [
    "H0: number of ratings of readers who completed all the challenges <= number of ratings of readers who did not complete all the challenges\n",
    "\n",
    "H1: number of ratings of readers who completed all the challenges > number of ratings of readers who did not complete all the challenges"
   ]
  },
  {
   "cell_type": "code",
   "execution_count": 192,
   "metadata": {},
   "outputs": [],
   "source": [
    "x = data[data['challenge_completed'] == 3]['ratings_count']\n",
    "y = data[data['challenge_completed'] == 2]['ratings_count']"
   ]
  },
  {
   "cell_type": "code",
   "execution_count": 193,
   "metadata": {},
   "outputs": [
    {
     "name": "stdout",
     "output_type": "stream",
     "text": [
      "4.123095799276699\n",
      "0.00018569216933366796\n"
     ]
    },
    {
     "data": {
      "text/plain": [
       "True"
      ]
     },
     "execution_count": 193,
     "metadata": {},
     "output_type": "execute_result"
    }
   ],
   "source": [
    "alpha = 0.10\n",
    "stat, p_value = st.ttest_ind(x,y, equal_var=False)\n",
    "print(stat)\n",
    "print(p_value)\n",
    "p_value < alpha"
   ]
  },
  {
   "cell_type": "markdown",
   "metadata": {},
   "source": [
    "- the p_value is lower when comparing 3vs2, 3vs1, 3vs0\n",
    "- we reject the null hypothesis\n",
    "- it seems that readers who joined leave more ratings are more likely to complete all the challenges"
   ]
  },
  {
   "cell_type": "markdown",
   "metadata": {},
   "source": [
    "### how well can we predict if someone will be able to complete the challenge based on these variables"
   ]
  },
  {
   "cell_type": "code",
   "execution_count": 196,
   "metadata": {},
   "outputs": [
    {
     "data": {
      "text/plain": [
       "0.7"
      ]
     },
     "execution_count": 196,
     "metadata": {},
     "output_type": "execute_result"
    }
   ],
   "source": [
    "# to predict whether someone will finish the challenge or not (yes or no)\n",
    "# we use the logistic regression \n",
    "\n",
    "# independent variables\n",
    "X = data[['reviews_count','ratings_count', 'friends', 'groups_count', 'gender', 'young_age', 'category_simplified']]\n",
    "# dependent variable\n",
    "y = data['2020'] \n",
    "\n",
    "model = LogisticRegression()\n",
    "result = model.fit(X,y)\n",
    "\n",
    "# the R2\n",
    "# the predictive power of regression\n",
    "# we get 70% of our prediction right \n",
    "result.score(X,y) "
   ]
  }
 ],
 "metadata": {
  "interpreter": {
   "hash": "bb2397f6023f7180ab7c4bc0a2e7b37c07346fc62ee2578ea436a4f88c094a88"
  },
  "kernelspec": {
   "display_name": "Python 3.9.7 64-bit ('ironhack': conda)",
   "language": "python",
   "name": "python3"
  },
  "language_info": {
   "codemirror_mode": {
    "name": "ipython",
    "version": 3
   },
   "file_extension": ".py",
   "mimetype": "text/x-python",
   "name": "python",
   "nbconvert_exporter": "python",
   "pygments_lexer": "ipython3",
   "version": "3.9.7"
  },
  "orig_nbformat": 4
 },
 "nbformat": 4,
 "nbformat_minor": 2
}
